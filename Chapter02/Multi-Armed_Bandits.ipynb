{
 "cells": [
  {
   "cell_type": "code",
   "execution_count": 1,
   "id": "0edb4122",
   "metadata": {},
   "outputs": [],
   "source": [
    "import numpy as np"
   ]
  },
  {
   "cell_type": "code",
   "execution_count": 2,
   "id": "2b7786f8",
   "metadata": {},
   "outputs": [],
   "source": [
    "# tạo máy đánh bạc, input là mean và std, mỗi lần gạt trả lại reward theo phân phối chuẩn Gaussian\n",
    "class GaussianBandit(object):\n",
    "    def __init__(self, mean=0, stdev=1):\n",
    "        self.mean = mean\n",
    "        self.stdev = stdev\n",
    "    def pull_lever(self):\n",
    "        reward = np.random.normal(self.mean, self.stdev)\n",
    "        return np.round(reward, 1)"
   ]
  },
  {
   "cell_type": "code",
   "execution_count": 3,
   "id": "472a8906",
   "metadata": {},
   "outputs": [],
   "source": [
    "# game xáo trộn các máy gạt\n",
    "class GaussianBanditGame(object):\n",
    "    def __init__(self, bandits):\n",
    "        self.bandits = bandits\n",
    "        np.random.shuffle(self.bandits)\n",
    "        self.reset_game()\n",
    "    def play(self, choice):\n",
    "        reward = self.bandits[choice - 1].pull_lever()\n",
    "        self.rewards.append(reward)\n",
    "        self.total_reward += reward\n",
    "        self.n_played += 1\n",
    "        return reward\n",
    "    def user_play(self):\n",
    "        self.reset_game()\n",
    "        print(\"Game started. Enter 0 as input to end the game.\")\n",
    "        while True:\n",
    "            print(f\"\\n -- Round {self.n_played}\")\n",
    "            choice = int(input(f\"Choose a machine from 1 to {len(self.bandits)}: \"))\n",
    "            if choice in range(1, len(self.bandits) + 1):\n",
    "                reward = self.play(choice)\n",
    "                print(f\"Machine {choice} gave a reward of {reward}.\")\n",
    "                avg_rew = self.total_reward/self.n_played\n",
    "                print(f\"Your average reward so far is {avg_rew}.\")\n",
    "            else:\n",
    "                break\n",
    "        print(\"Game has ended.\")\n",
    "        if self.n_played > 0:\n",
    "            print(f\"Total reward is {self.total_reward} after {self.n_played} round(s).\")\n",
    "            avg_rew = self.total_reward/self.n_played\n",
    "            print(f\"Average reward is {avg_rew}.\")\n",
    "    def reset_game(self):\n",
    "        self.rewards = []\n",
    "        self.total_reward = 0\n",
    "        self.n_played = 0"
   ]
  },
  {
   "cell_type": "code",
   "execution_count": 4,
   "id": "18811a92",
   "metadata": {},
   "outputs": [],
   "source": [
    "#Tạo máy và cung cấp phân phối cho mỗi máy khác nhau\n",
    "\n",
    "slotA = GaussianBandit(5, 3)\n",
    "slotB = GaussianBandit(6, 2)\n",
    "slotC = GaussianBandit(1, 5)\n",
    "game = GaussianBanditGame([slotA, slotB, slotC])"
   ]
  },
  {
   "cell_type": "code",
   "execution_count": 6,
   "id": "f165e1ee",
   "metadata": {
    "scrolled": true
   },
   "outputs": [
    {
     "name": "stdout",
     "output_type": "stream",
     "text": [
      "Game started. Enter 0 as input to end the game.\n",
      "\n",
      " -- Round 0\n",
      "Machine 1 gave a reward of 7.1.\n",
      "Your average reward so far is 7.1.\n",
      "\n",
      " -- Round 1\n",
      "Machine 2 gave a reward of 5.4.\n",
      "Your average reward so far is 6.25.\n",
      "\n",
      " -- Round 2\n",
      "Machine 3 gave a reward of 9.2.\n",
      "Your average reward so far is 7.233333333333333.\n",
      "\n",
      " -- Round 3\n",
      "Machine 3 gave a reward of -0.5.\n",
      "Your average reward so far is 5.3.\n",
      "\n",
      " -- Round 4\n",
      "Machine 3 gave a reward of 3.1.\n",
      "Your average reward so far is 4.86.\n",
      "\n",
      " -- Round 5\n",
      "Machine 1 gave a reward of 5.7.\n",
      "Your average reward so far is 5.0.\n",
      "\n",
      " -- Round 6\n",
      "Game has ended.\n",
      "Total reward is 30.0 after 6 round(s).\n",
      "Average reward is 5.0.\n"
     ]
    }
   ],
   "source": [
    "game.user_play()"
   ]
  },
  {
   "cell_type": "code",
   "execution_count": null,
   "id": "c0ba56c2",
   "metadata": {},
   "outputs": [],
   "source": []
  }
 ],
 "metadata": {
  "kernelspec": {
   "display_name": "Python 3.9.7 ('base')",
   "language": "python",
   "name": "python3"
  },
  "language_info": {
   "codemirror_mode": {
    "name": "ipython",
    "version": 3
   },
   "file_extension": ".py",
   "mimetype": "text/x-python",
   "name": "python",
   "nbconvert_exporter": "python",
   "pygments_lexer": "ipython3",
   "version": "3.9.7"
  },
  "vscode": {
   "interpreter": {
    "hash": "bddf63f1ca21ee439e71c096b0bfbbbad7c9b4aaf22c11116b42c56c4da97796"
   }
  }
 },
 "nbformat": 4,
 "nbformat_minor": 5
}
